{
 "cells": [
  {
   "cell_type": "markdown",
   "metadata": {},
   "source": [
    "# LinearSpectralModelling"
   ]
  },
  {
   "cell_type": "markdown",
   "metadata": {},
   "source": [
    "Framework for building a spectral library and performing linear spectral modelling on planetary surface spectra"
   ]
  },
  {
   "cell_type": "markdown",
   "metadata": {},
   "source": [
    "## Add a new laboratory spectra to the library"
   ]
  },
  {
   "cell_type": "code",
   "execution_count": 3,
   "metadata": {},
   "outputs": [],
   "source": [
    "import numpy as np\n",
    "import pandas as pd\n",
    "import spectral_library_utils as lib\n",
    "\n",
    "filenm = 'spectral_library.hdf5' #spectral library file\n",
    "\n",
    "data = np.loadtxt('lib_spec/MgCl2.2H2O_80K.txt', skiprows=4)\n",
    "spec = lib.LibrarySpectrum(name = 'magnesium chloride dihydrate'\n",
    "                           ,chemical_formula = 'MgCl2_(H2O)2'\n",
    "                           ,temp = 80. #K\n",
    "                           ,grain_size = np.array([b'flash frozen']) #only need b before string if np.array of strings\n",
    "                           ,spec_type = 'lab'\n",
    "                           ,hydration = 2\n",
    "                           ,spec_features = np.array([1.45, 1.97])\n",
    "                           ,source = 'https://agupubs.onlinelibrary.wiley.com/action/downloadSupplement?doi=10.1002%2F2013JE004565&file=jgre20327-sup-0005-dataSetS4.txt'\n",
    "                           ,citation = 'Hanley et al (2014)'\n",
    "                           ,wavelength = data[:,0] #um\n",
    "                           ,albedo = data[:,1]\n",
    "                           )\n",
    "spec.save(filenm, overwrite=True) #overwrite=True only if you want to replace an existing object with the same name"
   ]
  },
  {
   "cell_type": "code",
   "execution_count": null,
   "metadata": {},
   "outputs": [],
   "source": []
  }
 ],
 "metadata": {
  "kernelspec": {
   "display_name": "Python 3",
   "language": "python",
   "name": "python3"
  },
  "language_info": {
   "codemirror_mode": {
    "name": "ipython",
    "version": 3
   },
   "file_extension": ".py",
   "mimetype": "text/x-python",
   "name": "python",
   "nbconvert_exporter": "python",
   "pygments_lexer": "ipython3",
   "version": "3.8.5"
  }
 },
 "nbformat": 4,
 "nbformat_minor": 4
}
