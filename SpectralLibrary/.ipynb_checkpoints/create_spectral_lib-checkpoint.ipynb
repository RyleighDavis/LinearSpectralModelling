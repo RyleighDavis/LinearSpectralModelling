{
 "cells": [
  {
   "cell_type": "markdown",
   "metadata": {},
   "source": [
    "# Create Spectral Library"
   ]
  },
  {
   "cell_type": "code",
   "execution_count": 1,
   "metadata": {},
   "outputs": [],
   "source": [
    "import numpy as np\n",
    "import pandas as pd\n",
    "import spectral_library_utils as lib"
   ]
  },
  {
   "cell_type": "code",
   "execution_count": 2,
   "metadata": {},
   "outputs": [],
   "source": [
    "filenm = 'spectral_library.hdf5' #spectral library file"
   ]
  },
  {
   "cell_type": "code",
   "execution_count": 20,
   "metadata": {},
   "outputs": [],
   "source": [
    "data = np.loadtxt('lib_spec/MgCl2.2H2O_80K.txt', skiprows=4)\n",
    "spec = lib.LibrarySpectrum(name = 'magnesium chloride dihydrate'\n",
    "                           ,chemical_formula = 'MgCl2_(H2O)2'\n",
    "                           ,temp = 80. #K\n",
    "                           ,grain_size = np.array([b'flash frozen']) #only need b before string if np.array of strings\n",
    "                           ,spec_type = 'lab'\n",
    "                           ,hydration = 2\n",
    "                           ,spec_features = np.array([1.45, 1.97])\n",
    "                           ,source = 'https://agupubs.onlinelibrary.wiley.com/action/downloadSupplement?doi=10.1002%2F2013JE004565&file=jgre20327-sup-0005-dataSetS4.txt'\n",
    "                           ,citation = 'Hanley et al (2014)'\n",
    "                           ,wavelength = data[:,0] #um\n",
    "                           ,albedo = data[:,1]\n",
    "                           )\n",
    "spec.save(filenm)\n",
    "\n",
    "data2 = np.loadtxt('lib_spec/MgCl2.4H2O_80K.txt', skiprows=4)\n",
    "spec2 = lib.LibrarySpectrum(name = 'magnesium chloride tetrahydrate'\n",
    "                           ,chemical_formula = 'MgCl2_(H2O)4'\n",
    "                           ,temp = 80. #K\n",
    "                           ,grain_size = np.array([b'flash frozen']) #only need b before string if np.array of strings\n",
    "                           ,spec_type = 'lab'\n",
    "                           ,hydration = 4\n",
    "                           ,spec_features = np.array([1.45, 1.97])\n",
    "                           ,source = 'https://agupubs.onlinelibrary.wiley.com/action/downloadSupplement?doi=10.1002%2F2013JE004565&file=jgre20327-sup-0007-dataSetS6.txt'\n",
    "                           ,citation = 'Hanley et al (2014)'\n",
    "                           ,wavelength = data[:,0] #um\n",
    "                           ,albedo = data[:,1]\n",
    "                           )\n",
    "\n",
    "spec2.save(filenm)"
   ]
  },
  {
   "cell_type": "code",
   "execution_count": 3,
   "metadata": {},
   "outputs": [],
   "source": [
    "import h5py"
   ]
  },
  {
   "cell_type": "code",
   "execution_count": 4,
   "metadata": {},
   "outputs": [
    {
     "name": "stdout",
     "output_type": "stream",
     "text": [
      "magnesium chloride dihydrate\n",
      "magnesium chloride tetrahydrate\n"
     ]
    }
   ],
   "source": [
    "with h5py.File(filenm, 'r') as f:\n",
    "    for name in f:\n",
    "        s = lib.LibrarySpectrum.load(filenm, name)\n",
    "        print(s.name)"
   ]
  },
  {
   "cell_type": "code",
   "execution_count": 5,
   "metadata": {},
   "outputs": [
    {
     "name": "stdout",
     "output_type": "stream",
     "text": [
      "magnesium chloride dihydrate\n",
      "magnesium chloride tetrahydrate\n"
     ]
    }
   ],
   "source": [
    "with h5py.File(filenm, 'r') as f:\n",
    "    spectral_library = [lib.LibrarySpectrum.load(filenm, name) for name in f]\n",
    "\n",
    "for s in spectral_library:\n",
    "    print(s.name)"
   ]
  },
  {
   "cell_type": "code",
   "execution_count": 6,
   "metadata": {},
   "outputs": [],
   "source": [
    "df = lib.load_dataframe(filenm)"
   ]
  },
  {
   "cell_type": "code",
   "execution_count": 7,
   "metadata": {},
   "outputs": [
    {
     "data": {
      "text/html": [
       "<div>\n",
       "<style scoped>\n",
       "    .dataframe tbody tr th:only-of-type {\n",
       "        vertical-align: middle;\n",
       "    }\n",
       "\n",
       "    .dataframe tbody tr th {\n",
       "        vertical-align: top;\n",
       "    }\n",
       "\n",
       "    .dataframe thead th {\n",
       "        text-align: right;\n",
       "    }\n",
       "</style>\n",
       "<table border=\"1\" class=\"dataframe\">\n",
       "  <thead>\n",
       "    <tr style=\"text-align: right;\">\n",
       "      <th></th>\n",
       "      <th>name</th>\n",
       "      <th>chemical_formula</th>\n",
       "      <th>temp</th>\n",
       "      <th>grain_size</th>\n",
       "      <th>spec_type</th>\n",
       "      <th>hydration</th>\n",
       "      <th>spec_features</th>\n",
       "      <th>source</th>\n",
       "      <th>citation</th>\n",
       "      <th>wavelength</th>\n",
       "      <th>albedo</th>\n",
       "    </tr>\n",
       "  </thead>\n",
       "  <tbody>\n",
       "    <tr>\n",
       "      <th>0</th>\n",
       "      <td>magnesium chloride dihydrate</td>\n",
       "      <td>MgCl2_(H2O)2</td>\n",
       "      <td>80.0</td>\n",
       "      <td>[b'flash frozen']</td>\n",
       "      <td>lab</td>\n",
       "      <td>2</td>\n",
       "      <td>[1.45, 1.97]</td>\n",
       "      <td>https://agupubs.onlinelibrary.wiley.com/action...</td>\n",
       "      <td>Hanley et al (2014)</td>\n",
       "      <td>[0.35, 0.351, 0.352, 0.353, 0.354, 0.355, 0.35...</td>\n",
       "      <td>[0.291129582, 0.286879102, 0.289280145, 0.2923...</td>\n",
       "    </tr>\n",
       "    <tr>\n",
       "      <th>1</th>\n",
       "      <td>magnesium chloride tetrahydrate</td>\n",
       "      <td>MgCl2_(H2O)4</td>\n",
       "      <td>80.0</td>\n",
       "      <td>[b'flash frozen']</td>\n",
       "      <td>lab</td>\n",
       "      <td>4</td>\n",
       "      <td>[1.45, 1.97]</td>\n",
       "      <td>https://agupubs.onlinelibrary.wiley.com/action...</td>\n",
       "      <td>Hanley et al (2014)</td>\n",
       "      <td>[0.35, 0.351, 0.352, 0.353, 0.354, 0.355, 0.35...</td>\n",
       "      <td>[0.291129582, 0.286879102, 0.289280145, 0.2923...</td>\n",
       "    </tr>\n",
       "  </tbody>\n",
       "</table>\n",
       "</div>"
      ],
      "text/plain": [
       "                              name chemical_formula  temp         grain_size  \\\n",
       "0     magnesium chloride dihydrate     MgCl2_(H2O)2  80.0  [b'flash frozen']   \n",
       "1  magnesium chloride tetrahydrate     MgCl2_(H2O)4  80.0  [b'flash frozen']   \n",
       "\n",
       "  spec_type  hydration spec_features  \\\n",
       "0       lab          2  [1.45, 1.97]   \n",
       "1       lab          4  [1.45, 1.97]   \n",
       "\n",
       "                                              source             citation  \\\n",
       "0  https://agupubs.onlinelibrary.wiley.com/action...  Hanley et al (2014)   \n",
       "1  https://agupubs.onlinelibrary.wiley.com/action...  Hanley et al (2014)   \n",
       "\n",
       "                                          wavelength  \\\n",
       "0  [0.35, 0.351, 0.352, 0.353, 0.354, 0.355, 0.35...   \n",
       "1  [0.35, 0.351, 0.352, 0.353, 0.354, 0.355, 0.35...   \n",
       "\n",
       "                                              albedo  \n",
       "0  [0.291129582, 0.286879102, 0.289280145, 0.2923...  \n",
       "1  [0.291129582, 0.286879102, 0.289280145, 0.2923...  "
      ]
     },
     "execution_count": 7,
     "metadata": {},
     "output_type": "execute_result"
    }
   ],
   "source": [
    "df"
   ]
  },
  {
   "cell_type": "code",
   "execution_count": null,
   "metadata": {},
   "outputs": [],
   "source": []
  }
 ],
 "metadata": {
  "kernelspec": {
   "display_name": "Python 3",
   "language": "python",
   "name": "python3"
  },
  "language_info": {
   "codemirror_mode": {
    "name": "ipython",
    "version": 3
   },
   "file_extension": ".py",
   "mimetype": "text/x-python",
   "name": "python",
   "nbconvert_exporter": "python",
   "pygments_lexer": "ipython3",
   "version": "3.8.5"
  }
 },
 "nbformat": 4,
 "nbformat_minor": 4
}
