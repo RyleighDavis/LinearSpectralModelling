{
 "cells": [
  {
   "cell_type": "markdown",
   "metadata": {},
   "source": [
    "# LinearSpectralModelling"
   ]
  },
  {
   "cell_type": "markdown",
   "metadata": {},
   "source": [
    "Framework for building a spectral library and performing linear spectral modelling on planetary surface spectra"
   ]
  },
  {
   "cell_type": "markdown",
   "metadata": {},
   "source": [
    "## Add a new laboratory spectra to the library"
   ]
  },
  {
   "cell_type": "markdown",
   "metadata": {},
   "source": [
    "To add a new spectrum to the spectral library, first create a LibrarySpectrum class object with the information about the spectra. Then use the save method to add your spectrum to the library."
   ]
  },
  {
   "cell_type": "code",
   "execution_count": 6,
   "metadata": {},
   "outputs": [],
   "source": [
    "import numpy as np\n",
    "import pandas as pd\n",
    "from SpectralLibrary import spectral_library_utils as lib\n",
    "\n",
    "filenm = 'example_library.hdf5' #spectral library file\n",
    "\n",
    "data = np.loadtxt('Examples/NaCl_80K.txt', skiprows=4)\n",
    "spec = lib.LibrarySpectrum(name = 'sodium chloride'\n",
    "                           ,chemical_formula = 'NaCl'\n",
    "                           ,temp = 80. #K\n",
    "                           ,grain_size = np.array([20,50])\n",
    "                           ,spec_type = 'lab'\n",
    "                           ,hydration = 0 #anhydrous\n",
    "                           ,spec_features = np.array([]) #empty if no features of note\n",
    "                           ,source = 'https://agupubs.onlinelibrary.wiley.com/action/downloadSupplement?doi=10.1002%2F2013JE004565&file=jgre20327-sup-0014-dataSetS13.txt'\n",
    "                           ,citation = 'Hanley et al (2014)'\n",
    "                           ,wavelength = data[:,0] #um\n",
    "                           ,albedo = data[:,1]\n",
    "                           )\n",
    "spec.save('Examples/'+filenm) #overwrite=True only if you want to replace an existing object with the same name"
   ]
  },
  {
   "cell_type": "markdown",
   "metadata": {},
   "source": [
    "## Read in spectral library to pandas dataframe"
   ]
  },
  {
   "cell_type": "code",
   "execution_count": 8,
   "metadata": {},
   "outputs": [
    {
     "data": {
      "text/html": [
       "<div>\n",
       "<style scoped>\n",
       "    .dataframe tbody tr th:only-of-type {\n",
       "        vertical-align: middle;\n",
       "    }\n",
       "\n",
       "    .dataframe tbody tr th {\n",
       "        vertical-align: top;\n",
       "    }\n",
       "\n",
       "    .dataframe thead th {\n",
       "        text-align: right;\n",
       "    }\n",
       "</style>\n",
       "<table border=\"1\" class=\"dataframe\">\n",
       "  <thead>\n",
       "    <tr style=\"text-align: right;\">\n",
       "      <th></th>\n",
       "      <th>name</th>\n",
       "      <th>chemical_formula</th>\n",
       "      <th>temp</th>\n",
       "      <th>grain_size</th>\n",
       "      <th>spec_type</th>\n",
       "      <th>hydration</th>\n",
       "      <th>spec_features</th>\n",
       "      <th>source</th>\n",
       "      <th>citation</th>\n",
       "      <th>wavelength</th>\n",
       "      <th>albedo</th>\n",
       "    </tr>\n",
       "  </thead>\n",
       "  <tbody>\n",
       "    <tr>\n",
       "      <th>0</th>\n",
       "      <td>sodium chloride</td>\n",
       "      <td>NaCl</td>\n",
       "      <td>80.0</td>\n",
       "      <td>[20, 50]</td>\n",
       "      <td>lab</td>\n",
       "      <td>0</td>\n",
       "      <td>[]</td>\n",
       "      <td>https://agupubs.onlinelibrary.wiley.com/action...</td>\n",
       "      <td>Hanley et al (2014)</td>\n",
       "      <td>[0.35, 0.351, 0.352, 0.353, 0.354, 0.355, 0.35...</td>\n",
       "      <td>[0.256260774, 0.258040028, 0.260486898, 0.2613...</td>\n",
       "    </tr>\n",
       "  </tbody>\n",
       "</table>\n",
       "</div>"
      ],
      "text/plain": [
       "              name chemical_formula  temp grain_size spec_type  hydration  \\\n",
       "0  sodium chloride             NaCl  80.0   [20, 50]       lab          0   \n",
       "\n",
       "  spec_features                                             source  \\\n",
       "0            []  https://agupubs.onlinelibrary.wiley.com/action...   \n",
       "\n",
       "              citation                                         wavelength  \\\n",
       "0  Hanley et al (2014)  [0.35, 0.351, 0.352, 0.353, 0.354, 0.355, 0.35...   \n",
       "\n",
       "                                              albedo  \n",
       "0  [0.256260774, 0.258040028, 0.260486898, 0.2613...  "
      ]
     },
     "execution_count": 8,
     "metadata": {},
     "output_type": "execute_result"
    }
   ],
   "source": [
    "df = lib.load_dataframe(filenm)\n",
    "df"
   ]
  }
 ],
 "metadata": {
  "kernelspec": {
   "display_name": "Python 3",
   "language": "python",
   "name": "python3"
  },
  "language_info": {
   "codemirror_mode": {
    "name": "ipython",
    "version": 3
   },
   "file_extension": ".py",
   "mimetype": "text/x-python",
   "name": "python",
   "nbconvert_exporter": "python",
   "pygments_lexer": "ipython3",
   "version": "3.8.5"
  }
 },
 "nbformat": 4,
 "nbformat_minor": 4
}
